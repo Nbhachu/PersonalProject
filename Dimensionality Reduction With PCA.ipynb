{
 "cells": [
  {
   "cell_type": "markdown",
   "id": "7af715b6-b606-4c2f-8f59-0ba2f528ef01",
   "metadata": {},
   "source": [
    "# A9- Dimensionality Reduction With PCA"
   ]
  },
  {
   "cell_type": "markdown",
   "id": "5b46f785-f31d-4a5a-b706-1bddab7aeeaa",
   "metadata": {},
   "source": [
    "## Table of Contents\n",
    "\n",
    "1. [Introduction](#Introduction)\n",
    "   - [Data Source](#Data-Source)\n",
    "   - [Objective](#Objective)\n",
    "2. [Data Preprocessing](#Data-Preprocessing)\n",
    "   - [Data Cleaning](#Data-Cleaning)\n",
    "   - [Normalization](#Normalization)\n",
    "3. [Principal Component Analysis (PCA)](#Principal-Component-Analysis)\n",
    "   - [Calculate Covariance Matrix](#Calculate-Covariance-Matrix)\n",
    "   - [Calculate Eigenvectors and Eigenvalues](#Calculate-Eigenvectors-and-Eigenvalues)\n",
    "   - [Sort Eigenvectors by Eigenvalues](#Sort-Eigenvectors-by-Eigenvalues)\n",
    "   - [Select Top k Eigenvectors](#Select-Top-k-Eigenvectors)\n",
    "   - [Transform Data into k Dimensions](#Transform-Data-into-k-Dimensions)\n",
    "4. [Results](#Results)\n",
    "   - [PCA Representation Plot](#PCA-Representation-Plot)\n",
    "   - [Interpretation](#Interpretation)\n",
    "5. [Conclusion](#Conclusion)\n"
   ]
  },
  {
   "cell_type": "markdown",
   "id": "886768a8-0053-4ab5-a220-004b18ef0583",
   "metadata": {},
   "source": [
    "## Introduction"
   ]
  },
  {
   "cell_type": "markdown",
   "id": "ca664c88-5835-4764-b17f-0663dcb30c76",
   "metadata": {},
   "source": [
    "##### Data Source\n",
    "The dataset that I am using is the Iris dataset, which is a well-known dataset and we have used this dataset in class previously to build a decison tree. The Iris dataset has 150 samples, with 4 features: sepal length, sepal width, petal length, and petal width. These features are measurements of different parts of the Iris flowers and are used to distinguish between three species: setosa, versicolor, and virginica.\n",
    "\n",
    "- Link to dataset: https://www.kaggle.com/datasets/uciml/iris"
   ]
  },
  {
   "cell_type": "code",
   "execution_count": 1,
   "id": "0bea56ea-3391-4cc1-8838-d57297bbb938",
   "metadata": {},
   "outputs": [
    {
     "data": {
      "text/html": [
       "<div>\n",
       "<style scoped>\n",
       "    .dataframe tbody tr th:only-of-type {\n",
       "        vertical-align: middle;\n",
       "    }\n",
       "\n",
       "    .dataframe tbody tr th {\n",
       "        vertical-align: top;\n",
       "    }\n",
       "\n",
       "    .dataframe thead th {\n",
       "        text-align: right;\n",
       "    }\n",
       "</style>\n",
       "<table border=\"1\" class=\"dataframe\">\n",
       "  <thead>\n",
       "    <tr style=\"text-align: right;\">\n",
       "      <th></th>\n",
       "      <th>sepal_length</th>\n",
       "      <th>sepal_width</th>\n",
       "      <th>petal_length</th>\n",
       "      <th>petal_width</th>\n",
       "      <th>species</th>\n",
       "    </tr>\n",
       "  </thead>\n",
       "  <tbody>\n",
       "    <tr>\n",
       "      <th>1</th>\n",
       "      <td>5.1</td>\n",
       "      <td>3.5</td>\n",
       "      <td>1.4</td>\n",
       "      <td>0.2</td>\n",
       "      <td>Iris-setosa</td>\n",
       "    </tr>\n",
       "    <tr>\n",
       "      <th>2</th>\n",
       "      <td>4.9</td>\n",
       "      <td>3.0</td>\n",
       "      <td>1.4</td>\n",
       "      <td>0.2</td>\n",
       "      <td>Iris-setosa</td>\n",
       "    </tr>\n",
       "    <tr>\n",
       "      <th>3</th>\n",
       "      <td>4.7</td>\n",
       "      <td>3.2</td>\n",
       "      <td>1.3</td>\n",
       "      <td>0.2</td>\n",
       "      <td>Iris-setosa</td>\n",
       "    </tr>\n",
       "    <tr>\n",
       "      <th>4</th>\n",
       "      <td>4.6</td>\n",
       "      <td>3.1</td>\n",
       "      <td>1.5</td>\n",
       "      <td>0.2</td>\n",
       "      <td>Iris-setosa</td>\n",
       "    </tr>\n",
       "    <tr>\n",
       "      <th>5</th>\n",
       "      <td>5.0</td>\n",
       "      <td>3.6</td>\n",
       "      <td>1.4</td>\n",
       "      <td>0.2</td>\n",
       "      <td>Iris-setosa</td>\n",
       "    </tr>\n",
       "  </tbody>\n",
       "</table>\n",
       "</div>"
      ],
      "text/plain": [
       "   sepal_length  sepal_width  petal_length  petal_width      species\n",
       "1           5.1          3.5           1.4          0.2  Iris-setosa\n",
       "2           4.9          3.0           1.4          0.2  Iris-setosa\n",
       "3           4.7          3.2           1.3          0.2  Iris-setosa\n",
       "4           4.6          3.1           1.5          0.2  Iris-setosa\n",
       "5           5.0          3.6           1.4          0.2  Iris-setosa"
      ]
     },
     "execution_count": 1,
     "metadata": {},
     "output_type": "execute_result"
    }
   ],
   "source": [
    "# Importing necessary libraries\n",
    "import pandas as pd\n",
    "from sklearn.preprocessing import StandardScaler\n",
    "import numpy as np\n",
    "import matplotlib.pyplot as plt\n",
    "import seaborn as sns\n",
    "\n",
    "# Define custom column names\n",
    "col_names = [\"sepal_length\", \"sepal_width\", \"petal_length\", \"petal_width\", \"species\"]\n",
    "\n",
    "# Load the Iris dataset\n",
    "data = pd.read_csv(\"iris.csv\", skiprows=1, names=col_names)\n",
    "\n",
    "# Display the first few rows\n",
    "data.head()"
   ]
  },
  {
   "cell_type": "markdown",
   "id": "4d56abaf-907c-498f-bdb5-6c44c0b90cee",
   "metadata": {},
   "source": [
    "##### Objective\n",
    "In this analysis, I am applying Principal Component Analysis (PCA) to reduce the dimensionality of the dataset and explore how the features relate to each other. PCA helps in transforming the original features into a smaller set of uncorrelated components, allowing us to visualize the data in a more interpretable way and potentially uncover patterns that might not be immediately obvious in the higher-dimensional space."
   ]
  },
  {
   "cell_type": "markdown",
   "id": "5eae30d1-5088-4d5d-9fea-85b484c45fa1",
   "metadata": {},
   "source": [
    "## Data Preprocessing"
   ]
  },
  {
   "cell_type": "markdown",
   "id": "c6b17cf5-02f4-4c7e-a0a9-9c3fc75240e1",
   "metadata": {},
   "source": [
    "##### Data Cleaning\n",
    "Now that we have an overview of our dataset, we can proceed with the data preprocessing steps. First, I examined the data types of each column to identify which ones contain numerical values, as PCA requires numerical data. Additionally, I checked for any missing (null) and  duplicate values to ensure the dataset is complete before proceeding with the analysis."
   ]
  },
  {
   "cell_type": "code",
   "execution_count": 2,
   "id": "97617b36-4117-44b7-8e41-b60ed2f45d72",
   "metadata": {},
   "outputs": [
    {
     "name": "stdout",
     "output_type": "stream",
     "text": [
      "<class 'pandas.core.frame.DataFrame'>\n",
      "Index: 150 entries, 1 to 150\n",
      "Data columns (total 5 columns):\n",
      " #   Column        Non-Null Count  Dtype  \n",
      "---  ------        --------------  -----  \n",
      " 0   sepal_length  150 non-null    float64\n",
      " 1   sepal_width   150 non-null    float64\n",
      " 2   petal_length  150 non-null    float64\n",
      " 3   petal_width   150 non-null    float64\n",
      " 4   species       150 non-null    object \n",
      "dtypes: float64(4), object(1)\n",
      "memory usage: 7.0+ KB\n"
     ]
    }
   ],
   "source": [
    "data.info()"
   ]
  },
  {
   "cell_type": "code",
   "execution_count": 3,
   "id": "c73dbc3f-5e33-4f29-97b6-4f771446efc4",
   "metadata": {},
   "outputs": [
    {
     "data": {
      "text/plain": [
       "sepal_length    0\n",
       "sepal_width     0\n",
       "petal_length    0\n",
       "petal_width     0\n",
       "species         0\n",
       "dtype: int64"
      ]
     },
     "execution_count": 3,
     "metadata": {},
     "output_type": "execute_result"
    }
   ],
   "source": [
    "# Check for missing values\n",
    "data.isnull().sum() "
   ]
  },
  {
   "cell_type": "code",
   "execution_count": 4,
   "id": "c75ef7b3-8afa-4aa2-9c88-e0193f465a5d",
   "metadata": {},
   "outputs": [
    {
     "data": {
      "text/plain": [
       "3"
      ]
     },
     "execution_count": 4,
     "metadata": {},
     "output_type": "execute_result"
    }
   ],
   "source": [
    "# Check for duplicates\n",
    "data.duplicated().sum()"
   ]
  },
  {
   "cell_type": "markdown",
   "id": "8e915db3-7994-4e54-84e9-7e438b9d4509",
   "metadata": {},
   "source": [
    "##### Normalization\n",
    "Now that we have separated our features and target variable, we can move on to the next preprocessing step. First, I identified the features 'X' and target variable 'y'. The features, which are the input data used for analysis, include all columns except the target variable 'species'. The target variable, species, is what we aim to predict or classify. By separating them, we ensure that the machine learning model or PCA only uses the features for the analysis, not the target.\n",
    "\n",
    "Next, I applied normalization to the features. Since PCA is sensitive to the scale of the data, it’s important to scale the features to have a similar range. I used StandardScaler to standardize the features by removing the mean and scaling them to unit variance. This ensures that each feature contributes equally to the PCA, preventing any one feature from dominating due to a larger numerical range. By normalizing the data, we prepare it for PCA, where the transformation of data requires features to be on the same scale."
   ]
  },
  {
   "cell_type": "code",
   "execution_count": 5,
   "id": "3d97d4bc-cea8-4669-9f4e-2f18f07715d5",
   "metadata": {},
   "outputs": [],
   "source": [
    "# Separating the features and target\n",
    "X = data.drop(\"species\", axis=1)  # Only features\n",
    "y = data[\"species\"]  # Target (species)\n",
    "\n",
    "# Normalizing the features\n",
    "scaler = StandardScaler()\n",
    "X_scaled = scaler.fit_transform(X)\n"
   ]
  },
  {
   "cell_type": "markdown",
   "id": "c074e52b-72ab-4bb5-b4cc-6a36bba9d191",
   "metadata": {},
   "source": [
    "## Principal Component Analysis"
   ]
  },
  {
   "cell_type": "markdown",
   "id": "37df2266-dc61-4e56-ba26-ae434b4d7bc7",
   "metadata": {},
   "source": [
    "##### Calculate Covariance Matrix\n",
    "Next, we calculate the covariance matrix for the normalized features 'X_scaled'. The covariance matrix helps us understand how the features relate to each other, showing whether they increase or decrease together. By using the transposed version of the scaled data 'X_scaled.T', we ensure that the covariance is calculated between all pairs of features. This matrix is important for PCA because it shows the relationships between features and is used to find the directions in the data that have the most variance."
   ]
  },
  {
   "cell_type": "code",
   "execution_count": 6,
   "id": "c6eab038-64c0-4069-8afd-0939d6ce2c33",
   "metadata": {},
   "outputs": [
    {
     "name": "stdout",
     "output_type": "stream",
     "text": [
      "Covariance Matrix:\n",
      " [[ 1.00671141 -0.11010327  0.87760486  0.82344326]\n",
      " [-0.11010327  1.00671141 -0.42333835 -0.358937  ]\n",
      " [ 0.87760486 -0.42333835  1.00671141  0.96921855]\n",
      " [ 0.82344326 -0.358937    0.96921855  1.00671141]]\n"
     ]
    }
   ],
   "source": [
    "# Calculating the covariance matrix\n",
    "cov_matrix = np.cov(X_scaled.T)\n",
    "print(\"Covariance Matrix:\\n\", cov_matrix)"
   ]
  },
  {
   "cell_type": "markdown",
   "id": "ec35225c-6278-45e4-a7f5-b45d2990c9e2",
   "metadata": {},
   "source": [
    "##### Calculate Eigenvectors and Eigenvalues\n",
    "Next, I need to identify the directions in the data that capture the most significant patterns, which are represented by the eigenvalues and eigenvectors of the covariance matrix. Eigenvectors can be thought of as new \"super measurements\" that combine the original iris measurements (such as petal length and width, if they are often correlated). The eigenvalues indicate the importance of each super measurement as the larger eigenvalues suggest that a particular direction explains more of the variance in the data. By calculating these, I can determine which combinations of features provide the most insight into the different iris species. This process may reveal that not all four original measurements are necessary to effectively distinguish between the flower types. PCA is useful in this way, as it reduces the complexity of the data while preserving the key patterns that differentiate the iris species."
   ]
  },
  {
   "cell_type": "code",
   "execution_count": 7,
   "id": "8f7c460c-b7b6-42d9-9c3a-b21d911b9983",
   "metadata": {},
   "outputs": [
    {
     "name": "stdout",
     "output_type": "stream",
     "text": [
      "Eigenvalues:\n",
      " [2.93035378 0.92740362 0.14834223 0.02074601]\n",
      "Eigenvectors:\n",
      " [[ 0.52237162 -0.37231836 -0.72101681  0.26199559]\n",
      " [-0.26335492 -0.92555649  0.24203288 -0.12413481]\n",
      " [ 0.58125401 -0.02109478  0.14089226 -0.80115427]\n",
      " [ 0.56561105 -0.06541577  0.6338014   0.52354627]]\n"
     ]
    }
   ],
   "source": [
    "# Calculating eigenvalues and eigenvectors\n",
    "eigenvalues, eigenvectors = np.linalg.eig(cov_matrix)\n",
    "print(\"Eigenvalues:\\n\", eigenvalues)\n",
    "print(\"Eigenvectors:\\n\", eigenvectors)"
   ]
  },
  {
   "cell_type": "markdown",
   "id": "23abdb26-5af0-48cd-b78e-0fae7f2195b5",
   "metadata": {},
   "source": [
    "##### Sort Eigenvectors by Eigenvalues\n",
    "Ordering the eigenvalues and their corresponding eigenvectors is necessary because it allows us to identify the most important principal components in PCA. As mentioned above the eigenvalues indicate the amount of variance each component explains, and sorting them in descending order ensures that we prioritize the components that capture the most significant patterns in the data. "
   ]
  },
  {
   "cell_type": "code",
   "execution_count": 8,
   "id": "b1025c44-9948-42ba-8eea-1881af8d2775",
   "metadata": {},
   "outputs": [
    {
     "name": "stdout",
     "output_type": "stream",
     "text": [
      "Sorted Eigenvalues:\n",
      " [2.93035378 0.92740362 0.14834223 0.02074601]\n",
      "Sorted Eigenvectors:\n",
      " [[ 0.52237162 -0.37231836 -0.72101681  0.26199559]\n",
      " [-0.26335492 -0.92555649  0.24203288 -0.12413481]\n",
      " [ 0.58125401 -0.02109478  0.14089226 -0.80115427]\n",
      " [ 0.56561105 -0.06541577  0.6338014   0.52354627]]\n"
     ]
    }
   ],
   "source": [
    "# Sorting eigenvectors by eigenvalues in descending order\n",
    "sorted_indices = np.argsort(eigenvalues)[::-1]\n",
    "sorted_eigenvalues = eigenvalues[sorted_indices]\n",
    "sorted_eigenvectors = eigenvectors[:, sorted_indices]\n",
    "print(\"Sorted Eigenvalues:\\n\", sorted_eigenvalues)\n",
    "print(\"Sorted Eigenvectors:\\n\", sorted_eigenvectors)"
   ]
  },
  {
   "cell_type": "markdown",
   "id": "fe927f2a-6f30-47c3-960e-61530450df46",
   "metadata": {},
   "source": [
    "The eigenvalues and eigenvectors provide important insights into the structure of the data.\n",
    "The eigenvalues indicate how much variance each principal component explains, with the first eigenvalue '2.93' being the largest, suggesting that the first principal component captures the most significant variation in the data. The second eigenvalue '0.93' also captures some variance, but much less than the first. The third and fourth eigenvalues, '0.15' and '0.02', are quite small, meaning that these components explain very little of the data's variance and might not be as useful for distinguishing between iris species. The eigenvectors represent the directions of these principal components in the feature space. For example, the first eigenvector shows that petal length and sepal length contribute the most to the first principal component, indicating that these features are crucial for explaining the main patterns in the data. The second eigenvector highlights the importance of sepal width and petal length in the second principal component. The third and fourth components, which capture less variance, have lower absolute values in their eigenvectors, suggesting they involve combinations of features that don't significantly impact the overall structure of the data. This analysis shows that by focusing on the first two principal components, we can reduce the complexity of the dataset while still retaining most of the valuable information needed to differentiate the iris species."
   ]
  },
  {
   "cell_type": "markdown",
   "id": "a51cfb5a-4af1-4857-9684-1b5ca54a3a40",
   "metadata": {},
   "source": [
    "##### Select Top k Eigenvectors\n",
    "In this analysis, the top 2 eigenvectors were selected to retain the most significant patterns in the data. The eigenvectors correspond to the directions that capture the highest variance in the dataset, and by selecting the first two, we aim to preserve the key information that distinguishes the iris species. \n",
    "\n",
    "The two components accounted for a variance of about 95.8% or 0.958. This means that the first two principal components capture almost 96% of the total variance in the dataset, retaining the majority of the important features. This is significant because it lets us know that, with only two components, we would retain almost all the original information of the dataset. Thus, a reduction in dimensions makes the dataset easier to look at without losing essentially very much useful information necessary to distinguish the iris species from one another. "
   ]
  },
  {
   "cell_type": "code",
   "execution_count": 9,
   "id": "77892d4f-4b69-4992-a383-582abcfd59bd",
   "metadata": {},
   "outputs": [
    {
     "name": "stdout",
     "output_type": "stream",
     "text": [
      "Top 2 Eigenvectors:\n",
      " [[ 0.52237162 -0.37231836]\n",
      " [-0.26335492 -0.92555649]\n",
      " [ 0.58125401 -0.02109478]\n",
      " [ 0.56561105 -0.06541577]]\n",
      "Explained Variance by top 2 components: 0.9580097536148195\n"
     ]
    }
   ],
   "source": [
    "# Selecting the top 2 eigenvectors\n",
    "k = 2\n",
    "top_eigenvectors = sorted_eigenvectors[:, :k]\n",
    "print(\"Top 2 Eigenvectors:\\n\", top_eigenvectors)\n",
    "\n",
    "# Variance explained by the selected components\n",
    "explained_variance_ratio = sorted_eigenvalues[:k] / np.sum(sorted_eigenvalues)\n",
    "print(\"Explained Variance by top 2 components:\", explained_variance_ratio.sum())"
   ]
  },
  {
   "cell_type": "markdown",
   "id": "c8e5dff8-d95e-4f41-bfa6-8eea8c3b50bf",
   "metadata": {},
   "source": [
    "##### Transform Data into k Dimensions\n",
    "To get the reduced k-dimensional representation of the original data, I projected the scaled feature data 'X_scaled' onto the selected top 2 eigenvectors through proper linear transformation. I achieved this by applying the matrix multiplication of 'X_scaled' with the matrix of top 2 eigenvectors. This resulted in a new dataset 'X_reduced', where each data point is now represented by its coordinates along the first two principal components, PC1 and PC2. \n",
    "\n",
    "After the transformation, I created a new DataFrame 'pca_df' containing the reduced data in the form of the two principal components 'PC1' and 'PC2' and I added the target labels 'iris species' for easier interpretation. The first few rows of this data frame show how the data has been reduced and how each sample is now represented in this lower-dimensional space, which captures the most important variance in the data."
   ]
  },
  {
   "cell_type": "code",
   "execution_count": 10,
   "id": "0a8d8358-56aa-4d8c-9545-e5f6bde129eb",
   "metadata": {},
   "outputs": [
    {
     "data": {
      "text/html": [
       "<div>\n",
       "<style scoped>\n",
       "    .dataframe tbody tr th:only-of-type {\n",
       "        vertical-align: middle;\n",
       "    }\n",
       "\n",
       "    .dataframe tbody tr th {\n",
       "        vertical-align: top;\n",
       "    }\n",
       "\n",
       "    .dataframe thead th {\n",
       "        text-align: right;\n",
       "    }\n",
       "</style>\n",
       "<table border=\"1\" class=\"dataframe\">\n",
       "  <thead>\n",
       "    <tr style=\"text-align: right;\">\n",
       "      <th></th>\n",
       "      <th>PC1</th>\n",
       "      <th>PC2</th>\n",
       "      <th>target</th>\n",
       "    </tr>\n",
       "  </thead>\n",
       "  <tbody>\n",
       "    <tr>\n",
       "      <th>0</th>\n",
       "      <td>-2.264542</td>\n",
       "      <td>-0.505704</td>\n",
       "      <td>NaN</td>\n",
       "    </tr>\n",
       "    <tr>\n",
       "      <th>1</th>\n",
       "      <td>-2.086426</td>\n",
       "      <td>0.655405</td>\n",
       "      <td>Iris-setosa</td>\n",
       "    </tr>\n",
       "    <tr>\n",
       "      <th>2</th>\n",
       "      <td>-2.367950</td>\n",
       "      <td>0.318477</td>\n",
       "      <td>Iris-setosa</td>\n",
       "    </tr>\n",
       "    <tr>\n",
       "      <th>3</th>\n",
       "      <td>-2.304197</td>\n",
       "      <td>0.575368</td>\n",
       "      <td>Iris-setosa</td>\n",
       "    </tr>\n",
       "    <tr>\n",
       "      <th>4</th>\n",
       "      <td>-2.388777</td>\n",
       "      <td>-0.674767</td>\n",
       "      <td>Iris-setosa</td>\n",
       "    </tr>\n",
       "  </tbody>\n",
       "</table>\n",
       "</div>"
      ],
      "text/plain": [
       "        PC1       PC2       target\n",
       "0 -2.264542 -0.505704          NaN\n",
       "1 -2.086426  0.655405  Iris-setosa\n",
       "2 -2.367950  0.318477  Iris-setosa\n",
       "3 -2.304197  0.575368  Iris-setosa\n",
       "4 -2.388777 -0.674767  Iris-setosa"
      ]
     },
     "execution_count": 10,
     "metadata": {},
     "output_type": "execute_result"
    }
   ],
   "source": [
    "# Projecting the data onto the new k-dimensional space\n",
    "X_reduced = X_scaled.dot(top_eigenvectors)\n",
    "pca_df = pd.DataFrame(X_reduced, columns=['PC1', 'PC2'])\n",
    "pca_df['target'] = y\n",
    "pca_df.head()"
   ]
  },
  {
   "cell_type": "markdown",
   "id": "3fed6ade-6709-4ec5-8889-fd4cb8313c3c",
   "metadata": {},
   "source": [
    "##  Results"
   ]
  },
  {
   "cell_type": "markdown",
   "id": "33712afd-ec78-41e8-ba59-0e3bcd921061",
   "metadata": {},
   "source": [
    "##### PCA Representation Plot\n",
    "To visualize the data in the reduced 2-D space, we use a scatter plot where PC1 and PC2 represent the principal components, and the color of each data point indicates its corresponding iris species."
   ]
  },
  {
   "cell_type": "code",
   "execution_count": 11,
   "id": "1f7ef354-e1e3-4698-9ed0-e0e050d7faef",
   "metadata": {},
   "outputs": [
    {
     "data": {
      "image/png": "[encoded data removed]",
      "text/plain": [
       "<Figure size 1000x600 with 1 Axes>"
      ]
     },
     "metadata": {},
     "output_type": "display_data"
    }
   ],
   "source": [
    "# Plotting the PCA-transformed data\n",
    "plt.figure(figsize=(10, 6))\n",
    "sns.scatterplot(data=pca_df, x='PC1', y='PC2', hue='target', palette='pastel', s=70)\n",
    "plt.title('PCA of Iris Dataset')\n",
    "plt.xlabel('Principal Component 1')\n",
    "plt.ylabel('Principal Component 2')\n",
    "plt.legend(title='Target')\n",
    "plt.show()"
   ]
  },
  {
   "cell_type": "markdown",
   "id": "e6846bb7-8b0a-4f73-965c-acbe8d7342a8",
   "metadata": {},
   "source": [
    "##### Interpretation\n",
    "The Principal Component Analysis (PCA) plot of the Iris dataset clearly depicts the clustering of three Iris species-Iris-setosa, Iris-versicolor, and Iris-virginica-based on their respective key features reduced to two principal components. The Iris-setosa species, shown in light blue points, formed a cluster on the left side of the plot, indicating that it possessed some distinguishing characteristics from the other two species. In contrast, Iris-versicolor (orange points) and Iris-virginica (green points) had significant overlapping in the plot just right at center. It implies that these two species are more similar to each other according to the features analyzed. The x-axis corresponds to Principal Component 1, which accounts for the maximum variance in the dataset, thereby playing an important role in discrimination between Iris-setosa and the rest, while the y-axis corresponds to Principal Component 2, which can even distinguish Iris-versicolor from Iris-virginica. This visualization illustrates the inherent structure of the dataset, highlighting how Iris-setosa stands apart, while Iris-versicolor and Iris-virginica share more common traits."
   ]
  },
  {
   "cell_type": "markdown",
   "id": "21b9c00e-e80f-4afd-ad33-257ed912e4a5",
   "metadata": {},
   "source": [
    "## Conclusion\n",
    "In conclusion, the PCA of the Iris dataset has provided valuable insights into the structure of the data by reducing its dimensions to two components. By viewing the scatter plot of the transformed components, we can clearly observe how the three types of Iris— Iris-setosa, Iris-versicolor, and Iris-virginica—are clustered based on their key distinguishing features. The separation of Iris-setosa into a distinct, tight cluster highlights its uniqueness, while the overlap between Iris-versicolor and Iris-virginica suggests that these species share more similar characteristics. Principal Component 1 explains the majority of the variance and is responsible for separating Iris-setosa from the other two species. Principal Component 2 further distinguishes Iris-versicolor from Iris-virginica. The explained variance of the selected components is nearly 96%, demonstrating that PCA effectively preserves the significant inherent patterns within the data, allowing for a simplified representation of the species' features while retaining key information. This analysis shows how PCA can both reduce dimensions and reveal the structure of complex datasets, facilitating a clearer and more efficient analysis.\n"
   ]
  }
 ],
 "metadata": {
  "kernelspec": {
   "display_name": "Python 3 (ipykernel)",
   "language": "python",
   "name": "python3"
  },
  "language_info": {
   "codemirror_mode": {
    "name": "ipython",
    "version": 3
   },
   "file_extension": ".py",
   "mimetype": "text/x-python",
   "name": "python",
   "nbconvert_exporter": "python",
   "pygments_lexer": "ipython3",
   "version": "3.12.4"
  }
 },
 "nbformat": 4,
 "nbformat_minor": 5
}
